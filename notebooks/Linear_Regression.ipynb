{
  "nbformat": 4,
  "nbformat_minor": 0,
  "metadata": {
    "colab": {
      "name": "Linear_Regression.ipynb",
      "provenance": [],
      "collapsed_sections": [],
      "authorship_tag": "ABX9TyMT9Lo4rkFA8JgmR6KmewFl",
      "include_colab_link": true
    },
    "kernelspec": {
      "name": "python3",
      "display_name": "Python 3"
    },
    "language_info": {
      "name": "python"
    }
  },
  "cells": [
    {
      "cell_type": "markdown",
      "metadata": {
        "id": "view-in-github",
        "colab_type": "text"
      },
      "source": [
        "<a href=\"https://colab.research.google.com/github/VasilevsWork/AIS-Seminars/blob/notebook%2Flinear-regression/notebooks/Linear_Regression.ipynb\" target=\"_parent\"><img src=\"https://colab.research.google.com/assets/colab-badge.svg\" alt=\"Open In Colab\"/></a>"
      ]
    },
    {
      "cell_type": "code",
      "metadata": {
        "id": "bRlZ_OgSPr8E"
      },
      "source": [
        "import numpy as np\n",
        "import matplotlib.pyplot as plt"
      ],
      "execution_count": 2,
      "outputs": []
    },
    {
      "cell_type": "code",
      "metadata": {
        "id": "sxV-y1AnPsag"
      },
      "source": [
        "def estimate_coef(x, y):\n",
        "    # Количество точек/наблюдений\n",
        "    n = np.size(x)\n",
        " \n",
        "    # Среднее для двух векторов\n",
        "    m_x = np.mean(x)\n",
        "    m_y = np.mean(y)\n",
        " \n",
        "    # Normal Equation\n",
        "    SS_xy = np.sum(y*x) - n * m_y * m_x\n",
        "    SS_xx = np.sum(x*x) - n * m_x * m_x\n",
        " \n",
        "    # Вычисляем значение коэфициента регрессии\n",
        "    b_1 = SS_xy / SS_xx\n",
        "    b_0 = m_y - b_1 * m_x\n",
        " \n",
        "    return (b_0, b_1)"
      ],
      "execution_count": 3,
      "outputs": []
    },
    {
      "cell_type": "code",
      "metadata": {
        "id": "FYFkS8toPvrE"
      },
      "source": [
        "def plot_regression_line(x, y, b):\n",
        "    # Размещаем точки\n",
        "    plt.scatter(x, y, color = \"r\", marker = \"x\", s = 30)\n",
        " \n",
        "    # Предполагаемые значения\n",
        "    y_pred = b[0] + b[1]*x\n",
        " \n",
        "    # График линии регрессии\n",
        "    plt.plot(x, y_pred, color = \"b\")\n",
        "    # plt.scatter(x, y_pred, color = \"b\", marker = \"o\")\n",
        " \n",
        "    # Метки\n",
        "    plt.xlabel('x')\n",
        "    plt.ylabel('y')\n",
        " \n",
        "    # Отображаем график\n",
        "    plt.show()"
      ],
      "execution_count": 4,
      "outputs": []
    },
    {
      "cell_type": "code",
      "metadata": {
        "colab": {
          "base_uri": "https://localhost:8080/",
          "height": 347
        },
        "id": "A9-vkHhkYeQM",
        "outputId": "ff94d890-3513-45e2-b567-e64d7fb32bd3"
      },
      "source": [
        "def main():\n",
        "    # Входные данные\n",
        "    x = np.array([0, 1, 2, 3, 4, 5, 6, 7, 8, 9])\n",
        "    y = np.array([1, 3, 2, 5, 7, 8, 8, 9, 10, 12])\n",
        " \n",
        "    # Предполагаем коэфициенты регресии\n",
        "    b = estimate_coef(x, y)\n",
        "    print(\"Estimated coefficients:\\nb_0 = {}  \\\n",
        "          \\nb_1 = {}\".format(b[0], b[1]))\n",
        " \n",
        "    # Отрисовка графика\n",
        "    plot_regression_line(x, y, b)\n",
        "    return b\n",
        " \n",
        "coef = main()\n",
        "x = 10\n",
        "coef[0] + coef[1]*x"
      ],
      "execution_count": 5,
      "outputs": [
        {
          "output_type": "stream",
          "name": "stdout",
          "text": [
            "Estimated coefficients:\n",
            "b_0 = 1.2363636363636363            \n",
            "b_1 = 1.1696969696969697\n"
          ]
        },
        {
          "output_type": "display_data",
          "data": {
            "image/png": "[encoded data removed]",
            "text/plain": [
              "<Figure size 432x288 with 1 Axes>"
            ]
          },
          "metadata": {
            "needs_background": "light"
          }
        },
        {
          "output_type": "execute_result",
          "data": {
            "text/plain": [
              "12.933333333333334"
            ]
          },
          "metadata": {},
          "execution_count": 5
        }
      ]
    }
  ]
}